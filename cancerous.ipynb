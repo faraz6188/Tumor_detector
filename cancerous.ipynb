{
 "cells": [
  {
   "cell_type": "code",
   "execution_count": 1,
   "id": "c1428ddb-7353-4fee-8f42-428163a3882d",
   "metadata": {},
   "outputs": [],
   "source": [
    "import pandas as pd\n",
    "from sklearn.datasets import load_breast_cancer"
   ]
  },
  {
   "cell_type": "code",
   "execution_count": 2,
   "id": "669de50d-f9da-4015-b430-cf77821e7fd9",
   "metadata": {},
   "outputs": [],
   "source": [
    "cancer_data = load_breast_cancer()"
   ]
  },
  {
   "cell_type": "code",
   "execution_count": 3,
   "id": "54b6ce42-d763-4be3-9ec4-f69c8db52401",
   "metadata": {},
   "outputs": [],
   "source": [
    "df = pd.DataFrame(cancer_data.data,columns=cancer_data.feature_names)"
   ]
  },
  {
   "cell_type": "code",
   "execution_count": 4,
   "id": "cac29c34-a6b0-4fb2-aec7-9fefa0582ddb",
   "metadata": {},
   "outputs": [
    {
     "data": {
      "text/html": [
       "<div>\n",
       "<style scoped>\n",
       "    .dataframe tbody tr th:only-of-type {\n",
       "        vertical-align: middle;\n",
       "    }\n",
       "\n",
       "    .dataframe tbody tr th {\n",
       "        vertical-align: top;\n",
       "    }\n",
       "\n",
       "    .dataframe thead th {\n",
       "        text-align: right;\n",
       "    }\n",
       "</style>\n",
       "<table border=\"1\" class=\"dataframe\">\n",
       "  <thead>\n",
       "    <tr style=\"text-align: right;\">\n",
       "      <th></th>\n",
       "      <th>mean radius</th>\n",
       "      <th>mean texture</th>\n",
       "      <th>mean perimeter</th>\n",
       "      <th>mean area</th>\n",
       "      <th>mean smoothness</th>\n",
       "      <th>mean compactness</th>\n",
       "      <th>mean concavity</th>\n",
       "      <th>mean concave points</th>\n",
       "      <th>mean symmetry</th>\n",
       "      <th>mean fractal dimension</th>\n",
       "      <th>...</th>\n",
       "      <th>worst radius</th>\n",
       "      <th>worst texture</th>\n",
       "      <th>worst perimeter</th>\n",
       "      <th>worst area</th>\n",
       "      <th>worst smoothness</th>\n",
       "      <th>worst compactness</th>\n",
       "      <th>worst concavity</th>\n",
       "      <th>worst concave points</th>\n",
       "      <th>worst symmetry</th>\n",
       "      <th>worst fractal dimension</th>\n",
       "    </tr>\n",
       "  </thead>\n",
       "  <tbody>\n",
       "    <tr>\n",
       "      <th>0</th>\n",
       "      <td>17.99</td>\n",
       "      <td>10.38</td>\n",
       "      <td>122.80</td>\n",
       "      <td>1001.0</td>\n",
       "      <td>0.11840</td>\n",
       "      <td>0.27760</td>\n",
       "      <td>0.3001</td>\n",
       "      <td>0.14710</td>\n",
       "      <td>0.2419</td>\n",
       "      <td>0.07871</td>\n",
       "      <td>...</td>\n",
       "      <td>25.38</td>\n",
       "      <td>17.33</td>\n",
       "      <td>184.60</td>\n",
       "      <td>2019.0</td>\n",
       "      <td>0.1622</td>\n",
       "      <td>0.6656</td>\n",
       "      <td>0.7119</td>\n",
       "      <td>0.2654</td>\n",
       "      <td>0.4601</td>\n",
       "      <td>0.11890</td>\n",
       "    </tr>\n",
       "    <tr>\n",
       "      <th>1</th>\n",
       "      <td>20.57</td>\n",
       "      <td>17.77</td>\n",
       "      <td>132.90</td>\n",
       "      <td>1326.0</td>\n",
       "      <td>0.08474</td>\n",
       "      <td>0.07864</td>\n",
       "      <td>0.0869</td>\n",
       "      <td>0.07017</td>\n",
       "      <td>0.1812</td>\n",
       "      <td>0.05667</td>\n",
       "      <td>...</td>\n",
       "      <td>24.99</td>\n",
       "      <td>23.41</td>\n",
       "      <td>158.80</td>\n",
       "      <td>1956.0</td>\n",
       "      <td>0.1238</td>\n",
       "      <td>0.1866</td>\n",
       "      <td>0.2416</td>\n",
       "      <td>0.1860</td>\n",
       "      <td>0.2750</td>\n",
       "      <td>0.08902</td>\n",
       "    </tr>\n",
       "    <tr>\n",
       "      <th>2</th>\n",
       "      <td>19.69</td>\n",
       "      <td>21.25</td>\n",
       "      <td>130.00</td>\n",
       "      <td>1203.0</td>\n",
       "      <td>0.10960</td>\n",
       "      <td>0.15990</td>\n",
       "      <td>0.1974</td>\n",
       "      <td>0.12790</td>\n",
       "      <td>0.2069</td>\n",
       "      <td>0.05999</td>\n",
       "      <td>...</td>\n",
       "      <td>23.57</td>\n",
       "      <td>25.53</td>\n",
       "      <td>152.50</td>\n",
       "      <td>1709.0</td>\n",
       "      <td>0.1444</td>\n",
       "      <td>0.4245</td>\n",
       "      <td>0.4504</td>\n",
       "      <td>0.2430</td>\n",
       "      <td>0.3613</td>\n",
       "      <td>0.08758</td>\n",
       "    </tr>\n",
       "    <tr>\n",
       "      <th>3</th>\n",
       "      <td>11.42</td>\n",
       "      <td>20.38</td>\n",
       "      <td>77.58</td>\n",
       "      <td>386.1</td>\n",
       "      <td>0.14250</td>\n",
       "      <td>0.28390</td>\n",
       "      <td>0.2414</td>\n",
       "      <td>0.10520</td>\n",
       "      <td>0.2597</td>\n",
       "      <td>0.09744</td>\n",
       "      <td>...</td>\n",
       "      <td>14.91</td>\n",
       "      <td>26.50</td>\n",
       "      <td>98.87</td>\n",
       "      <td>567.7</td>\n",
       "      <td>0.2098</td>\n",
       "      <td>0.8663</td>\n",
       "      <td>0.6869</td>\n",
       "      <td>0.2575</td>\n",
       "      <td>0.6638</td>\n",
       "      <td>0.17300</td>\n",
       "    </tr>\n",
       "    <tr>\n",
       "      <th>4</th>\n",
       "      <td>20.29</td>\n",
       "      <td>14.34</td>\n",
       "      <td>135.10</td>\n",
       "      <td>1297.0</td>\n",
       "      <td>0.10030</td>\n",
       "      <td>0.13280</td>\n",
       "      <td>0.1980</td>\n",
       "      <td>0.10430</td>\n",
       "      <td>0.1809</td>\n",
       "      <td>0.05883</td>\n",
       "      <td>...</td>\n",
       "      <td>22.54</td>\n",
       "      <td>16.67</td>\n",
       "      <td>152.20</td>\n",
       "      <td>1575.0</td>\n",
       "      <td>0.1374</td>\n",
       "      <td>0.2050</td>\n",
       "      <td>0.4000</td>\n",
       "      <td>0.1625</td>\n",
       "      <td>0.2364</td>\n",
       "      <td>0.07678</td>\n",
       "    </tr>\n",
       "  </tbody>\n",
       "</table>\n",
       "<p>5 rows × 30 columns</p>\n",
       "</div>"
      ],
      "text/plain": [
       "   mean radius  mean texture  mean perimeter  mean area  mean smoothness  \\\n",
       "0        17.99         10.38          122.80     1001.0          0.11840   \n",
       "1        20.57         17.77          132.90     1326.0          0.08474   \n",
       "2        19.69         21.25          130.00     1203.0          0.10960   \n",
       "3        11.42         20.38           77.58      386.1          0.14250   \n",
       "4        20.29         14.34          135.10     1297.0          0.10030   \n",
       "\n",
       "   mean compactness  mean concavity  mean concave points  mean symmetry  \\\n",
       "0           0.27760          0.3001              0.14710         0.2419   \n",
       "1           0.07864          0.0869              0.07017         0.1812   \n",
       "2           0.15990          0.1974              0.12790         0.2069   \n",
       "3           0.28390          0.2414              0.10520         0.2597   \n",
       "4           0.13280          0.1980              0.10430         0.1809   \n",
       "\n",
       "   mean fractal dimension  ...  worst radius  worst texture  worst perimeter  \\\n",
       "0                 0.07871  ...         25.38          17.33           184.60   \n",
       "1                 0.05667  ...         24.99          23.41           158.80   \n",
       "2                 0.05999  ...         23.57          25.53           152.50   \n",
       "3                 0.09744  ...         14.91          26.50            98.87   \n",
       "4                 0.05883  ...         22.54          16.67           152.20   \n",
       "\n",
       "   worst area  worst smoothness  worst compactness  worst concavity  \\\n",
       "0      2019.0            0.1622             0.6656           0.7119   \n",
       "1      1956.0            0.1238             0.1866           0.2416   \n",
       "2      1709.0            0.1444             0.4245           0.4504   \n",
       "3       567.7            0.2098             0.8663           0.6869   \n",
       "4      1575.0            0.1374             0.2050           0.4000   \n",
       "\n",
       "   worst concave points  worst symmetry  worst fractal dimension  \n",
       "0                0.2654          0.4601                  0.11890  \n",
       "1                0.1860          0.2750                  0.08902  \n",
       "2                0.2430          0.3613                  0.08758  \n",
       "3                0.2575          0.6638                  0.17300  \n",
       "4                0.1625          0.2364                  0.07678  \n",
       "\n",
       "[5 rows x 30 columns]"
      ]
     },
     "execution_count": 4,
     "metadata": {},
     "output_type": "execute_result"
    }
   ],
   "source": [
    "df.head()"
   ]
  },
  {
   "cell_type": "markdown",
   "id": "24d70a95-a686-4e12-a329-eddab6a1b2d7",
   "metadata": {},
   "source": [
    "# Scaleing data"
   ]
  },
  {
   "cell_type": "code",
   "execution_count": 5,
   "id": "e3e2bfea-4089-4dc8-a0df-246641c9e58e",
   "metadata": {},
   "outputs": [],
   "source": [
    "from sklearn.preprocessing import StandardScaler\n",
    "sc= StandardScaler()"
   ]
  },
  {
   "cell_type": "code",
   "execution_count": 6,
   "id": "1a8de556-e318-45d4-9cc1-6e063a7358b9",
   "metadata": {},
   "outputs": [],
   "source": [
    "scale_df = sc.fit_transform(df)"
   ]
  },
  {
   "cell_type": "code",
   "execution_count": 7,
   "id": "dd357be4-c369-4f34-9f72-dd35d868a80b",
   "metadata": {},
   "outputs": [
    {
     "data": {
      "text/plain": [
       "array([[ 1.09706398, -2.07333501,  1.26993369, ...,  2.29607613,\n",
       "         2.75062224,  1.93701461],\n",
       "       [ 1.82982061, -0.35363241,  1.68595471, ...,  1.0870843 ,\n",
       "        -0.24388967,  0.28118999],\n",
       "       [ 1.57988811,  0.45618695,  1.56650313, ...,  1.95500035,\n",
       "         1.152255  ,  0.20139121],\n",
       "       ...,\n",
       "       [ 0.70228425,  2.0455738 ,  0.67267578, ...,  0.41406869,\n",
       "        -1.10454895, -0.31840916],\n",
       "       [ 1.83834103,  2.33645719,  1.98252415, ...,  2.28998549,\n",
       "         1.91908301,  2.21963528],\n",
       "       [-1.80840125,  1.22179204, -1.81438851, ..., -1.74506282,\n",
       "        -0.04813821, -0.75120669]])"
      ]
     },
     "execution_count": 7,
     "metadata": {},
     "output_type": "execute_result"
    }
   ],
   "source": [
    "scale_df"
   ]
  },
  {
   "cell_type": "markdown",
   "id": "dc9f4cef-0664-4489-8e05-fc8bd79acaff",
   "metadata": {},
   "source": [
    "# now Spliting the data"
   ]
  },
  {
   "cell_type": "code",
   "execution_count": 8,
   "id": "011dfb4f-d692-46b9-98a6-98a7f1ccb686",
   "metadata": {},
   "outputs": [],
   "source": [
    "x=scale_df\n",
    "y=cancer_data.target"
   ]
  },
  {
   "cell_type": "code",
   "execution_count": 9,
   "id": "0e2151d8-aa24-4301-b4d5-7bb87a09b03a",
   "metadata": {},
   "outputs": [
    {
     "name": "stdout",
     "output_type": "stream",
     "text": [
      "['malignant' 'benign']\n"
     ]
    }
   ],
   "source": [
    "print(cancer_data.target_names)"
   ]
  },
  {
   "cell_type": "markdown",
   "id": "6acbf910-1c3b-461d-959f-94d93944610d",
   "metadata": {},
   "source": [
    "## Training"
   ]
  },
  {
   "cell_type": "code",
   "execution_count": 10,
   "id": "07236670-1343-434a-88b7-03b59f1f4270",
   "metadata": {},
   "outputs": [],
   "source": [
    "from sklearn.model_selection import train_test_split\n",
    "x_train,x_test,y_train,y_test = train_test_split(x,y,test_size=0.1,random_state=1)"
   ]
  },
  {
   "cell_type": "markdown",
   "id": "aa3deb42-298a-4e10-a24e-23d4025c225b",
   "metadata": {},
   "source": [
    "### Deep Learning"
   ]
  },
  {
   "cell_type": "code",
   "execution_count": 11,
   "id": "3af02be4-f800-4a68-8efe-aea2de5e826c",
   "metadata": {},
   "outputs": [
    {
     "name": "stderr",
     "output_type": "stream",
     "text": [
      "2024-11-19 11:09:10.468316: I tensorflow/core/platform/cpu_feature_guard.cc:210] This TensorFlow binary is optimized to use available CPU instructions in performance-critical operations.\n",
      "To enable the following instructions: AVX2 FMA, in other operations, rebuild TensorFlow with the appropriate compiler flags.\n"
     ]
    }
   ],
   "source": [
    "from keras.models import Sequential\n",
    "model = Sequential()"
   ]
  },
  {
   "cell_type": "code",
   "execution_count": 12,
   "id": "0c48f239-6c2d-42f6-a411-a547ec032907",
   "metadata": {},
   "outputs": [],
   "source": [
    "from keras.layers import Dense"
   ]
  },
  {
   "cell_type": "markdown",
   "id": "bd297426-08e1-4545-b3e6-2adc6c7ca2aa",
   "metadata": {},
   "source": [
    "### Input Layer"
   ]
  },
  {
   "cell_type": "code",
   "execution_count": 13,
   "id": "919faa86-fb75-49cf-839d-ddc1f5d591c3",
   "metadata": {},
   "outputs": [],
   "source": [
    "model.add(Dense(units=10,activation='relu'))"
   ]
  },
  {
   "cell_type": "markdown",
   "id": "3006a162-621a-41ff-bfbf-176968fbf34b",
   "metadata": {},
   "source": [
    "## Hidden layers"
   ]
  },
  {
   "cell_type": "code",
   "execution_count": 14,
   "id": "99e97269-c63d-4bff-85d6-d4dfd4b4fa47",
   "metadata": {},
   "outputs": [],
   "source": [
    "model.add(Dense(units=20,activation='relu'))\n",
    "model.add(Dense(units=30,activation='relu'))\n",
    "model.add(Dense(units=40,activation='relu'))\n",
    "model.add(Dense(units=1,activation='sigmoid'))"
   ]
  },
  {
   "cell_type": "markdown",
   "id": "a7b71025-b84b-40ff-a6d0-9c61fd03daed",
   "metadata": {},
   "source": [
    "## Output layer"
   ]
  },
  {
   "cell_type": "code",
   "execution_count": 15,
   "id": "2900837d-32c7-4de5-b3a0-ee5106b3bb59",
   "metadata": {},
   "outputs": [],
   "source": [
    "model.compile(optimizer='Adam',loss='binary_crossentropy',metrics=['accuracy'])"
   ]
  },
  {
   "cell_type": "markdown",
   "id": "bd92727c-a205-4056-9ab5-25e58ed236e0",
   "metadata": {},
   "source": [
    "## Back to ML"
   ]
  },
  {
   "cell_type": "code",
   "execution_count": 16,
   "id": "7d4af85f-86a9-4dfb-9cd7-6fe33f569f13",
   "metadata": {},
   "outputs": [
    {
     "name": "stdout",
     "output_type": "stream",
     "text": [
      "Epoch 1/20\n",
      "\u001b[1m15/15\u001b[0m \u001b[32m━━━━━━━━━━━━━━━━━━━━\u001b[0m\u001b[37m\u001b[0m \u001b[1m3s\u001b[0m 18ms/step - accuracy: 0.8007 - loss: 0.6268 - val_accuracy: 0.8269 - val_loss: 0.5061\n",
      "Epoch 2/20\n",
      "\u001b[1m15/15\u001b[0m \u001b[32m━━━━━━━━━━━━━━━━━━━━\u001b[0m\u001b[37m\u001b[0m \u001b[1m0s\u001b[0m 4ms/step - accuracy: 0.8904 - loss: 0.4722 - val_accuracy: 0.9423 - val_loss: 0.3545\n",
      "Epoch 3/20\n",
      "\u001b[1m15/15\u001b[0m \u001b[32m━━━━━━━━━━━━━━━━━━━━\u001b[0m\u001b[37m\u001b[0m \u001b[1m0s\u001b[0m 4ms/step - accuracy: 0.9420 - loss: 0.3134 - val_accuracy: 0.9615 - val_loss: 0.2387\n",
      "Epoch 4/20\n",
      "\u001b[1m15/15\u001b[0m \u001b[32m━━━━━━━━━━━━━━━━━━━━\u001b[0m\u001b[37m\u001b[0m \u001b[1m0s\u001b[0m 4ms/step - accuracy: 0.9542 - loss: 0.2178 - val_accuracy: 0.9423 - val_loss: 0.1785\n",
      "Epoch 5/20\n",
      "\u001b[1m15/15\u001b[0m \u001b[32m━━━━━━━━━━━━━━━━━━━━\u001b[0m\u001b[37m\u001b[0m \u001b[1m0s\u001b[0m 4ms/step - accuracy: 0.9618 - loss: 0.1419 - val_accuracy: 0.9615 - val_loss: 0.1550\n",
      "Epoch 6/20\n",
      "\u001b[1m15/15\u001b[0m \u001b[32m━━━━━━━━━━━━━━━━━━━━\u001b[0m\u001b[37m\u001b[0m \u001b[1m0s\u001b[0m 4ms/step - accuracy: 0.9719 - loss: 0.1117 - val_accuracy: 0.9808 - val_loss: 0.1411\n",
      "Epoch 7/20\n",
      "\u001b[1m15/15\u001b[0m \u001b[32m━━━━━━━━━━━━━━━━━━━━\u001b[0m\u001b[37m\u001b[0m \u001b[1m0s\u001b[0m 4ms/step - accuracy: 0.9571 - loss: 0.1053 - val_accuracy: 0.9808 - val_loss: 0.1347\n",
      "Epoch 8/20\n",
      "\u001b[1m15/15\u001b[0m \u001b[32m━━━━━━━━━━━━━━━━━━━━\u001b[0m\u001b[37m\u001b[0m \u001b[1m0s\u001b[0m 4ms/step - accuracy: 0.9552 - loss: 0.1000 - val_accuracy: 0.9808 - val_loss: 0.1228\n",
      "Epoch 9/20\n",
      "\u001b[1m15/15\u001b[0m \u001b[32m━━━━━━━━━━━━━━━━━━━━\u001b[0m\u001b[37m\u001b[0m \u001b[1m0s\u001b[0m 4ms/step - accuracy: 0.9849 - loss: 0.0587 - val_accuracy: 0.9808 - val_loss: 0.1215\n",
      "Epoch 10/20\n",
      "\u001b[1m15/15\u001b[0m \u001b[32m━━━━━━━━━━━━━━━━━━━━\u001b[0m\u001b[37m\u001b[0m \u001b[1m0s\u001b[0m 4ms/step - accuracy: 0.9756 - loss: 0.0784 - val_accuracy: 0.9808 - val_loss: 0.1190\n",
      "Epoch 11/20\n",
      "\u001b[1m15/15\u001b[0m \u001b[32m━━━━━━━━━━━━━━━━━━━━\u001b[0m\u001b[37m\u001b[0m \u001b[1m0s\u001b[0m 4ms/step - accuracy: 0.9782 - loss: 0.0634 - val_accuracy: 0.9808 - val_loss: 0.1136\n",
      "Epoch 12/20\n",
      "\u001b[1m15/15\u001b[0m \u001b[32m━━━━━━━━━━━━━━━━━━━━\u001b[0m\u001b[37m\u001b[0m \u001b[1m0s\u001b[0m 4ms/step - accuracy: 0.9820 - loss: 0.0518 - val_accuracy: 0.9808 - val_loss: 0.1126\n",
      "Epoch 13/20\n",
      "\u001b[1m15/15\u001b[0m \u001b[32m━━━━━━━━━━━━━━━━━━━━\u001b[0m\u001b[37m\u001b[0m \u001b[1m0s\u001b[0m 4ms/step - accuracy: 0.9905 - loss: 0.0345 - val_accuracy: 0.9808 - val_loss: 0.1150\n",
      "Epoch 14/20\n",
      "\u001b[1m15/15\u001b[0m \u001b[32m━━━━━━━━━━━━━━━━━━━━\u001b[0m\u001b[37m\u001b[0m \u001b[1m0s\u001b[0m 4ms/step - accuracy: 0.9895 - loss: 0.0447 - val_accuracy: 0.9808 - val_loss: 0.1066\n",
      "Epoch 15/20\n",
      "\u001b[1m15/15\u001b[0m \u001b[32m━━━━━━━━━━━━━━━━━━━━\u001b[0m\u001b[37m\u001b[0m \u001b[1m0s\u001b[0m 4ms/step - accuracy: 0.9819 - loss: 0.0446 - val_accuracy: 0.9808 - val_loss: 0.1140\n",
      "Epoch 16/20\n",
      "\u001b[1m15/15\u001b[0m \u001b[32m━━━━━━━━━━━━━━━━━━━━\u001b[0m\u001b[37m\u001b[0m \u001b[1m0s\u001b[0m 5ms/step - accuracy: 0.9856 - loss: 0.0484 - val_accuracy: 0.9808 - val_loss: 0.1157\n",
      "Epoch 17/20\n",
      "\u001b[1m15/15\u001b[0m \u001b[32m━━━━━━━━━━━━━━━━━━━━\u001b[0m\u001b[37m\u001b[0m \u001b[1m0s\u001b[0m 4ms/step - accuracy: 0.9849 - loss: 0.0405 - val_accuracy: 0.9808 - val_loss: 0.1149\n",
      "Epoch 18/20\n",
      "\u001b[1m15/15\u001b[0m \u001b[32m━━━━━━━━━━━━━━━━━━━━\u001b[0m\u001b[37m\u001b[0m \u001b[1m0s\u001b[0m 4ms/step - accuracy: 0.9980 - loss: 0.0176 - val_accuracy: 0.9615 - val_loss: 0.1284\n",
      "Epoch 19/20\n",
      "\u001b[1m15/15\u001b[0m \u001b[32m━━━━━━━━━━━━━━━━━━━━\u001b[0m\u001b[37m\u001b[0m \u001b[1m0s\u001b[0m 4ms/step - accuracy: 0.9953 - loss: 0.0218 - val_accuracy: 0.9808 - val_loss: 0.1083\n",
      "Epoch 20/20\n",
      "\u001b[1m15/15\u001b[0m \u001b[32m━━━━━━━━━━━━━━━━━━━━\u001b[0m\u001b[37m\u001b[0m \u001b[1m0s\u001b[0m 4ms/step - accuracy: 0.9822 - loss: 0.0380 - val_accuracy: 0.9615 - val_loss: 0.1196\n"
     ]
    },
    {
     "data": {
      "text/plain": [
       "<keras.src.callbacks.history.History at 0x13c8ab890>"
      ]
     },
     "execution_count": 16,
     "metadata": {},
     "output_type": "execute_result"
    }
   ],
   "source": [
    "model.fit(x_train,y_train,epochs=20,batch_size=32, validation_split=0.1)"
   ]
  },
  {
   "cell_type": "code",
   "execution_count": 17,
   "id": "b258013b-437b-4fff-aa06-2af0dd9ab1e7",
   "metadata": {},
   "outputs": [
    {
     "name": "stdout",
     "output_type": "stream",
     "text": [
      "\u001b[1m2/2\u001b[0m \u001b[32m━━━━━━━━━━━━━━━━━━━━\u001b[0m\u001b[37m\u001b[0m \u001b[1m0s\u001b[0m 52ms/step\n"
     ]
    }
   ],
   "source": [
    "y_pred = model.predict(x_test)"
   ]
  },
  {
   "cell_type": "code",
   "execution_count": 18,
   "id": "03710bfa-aff5-422d-9be1-97c4874ddc78",
   "metadata": {},
   "outputs": [
    {
     "name": "stdout",
     "output_type": "stream",
     "text": [
      "[[9.66590941e-01]\n",
      " [1.25138171e-03]\n",
      " [9.99280393e-01]\n",
      " [1.28932751e-03]\n",
      " [7.16278180e-02]\n",
      " [2.37310049e-03]\n",
      " [2.03500327e-04]\n",
      " [4.38343853e-01]\n",
      " [9.99581873e-01]\n",
      " [9.98521090e-01]\n",
      " [9.99619603e-01]\n",
      " [4.47189261e-04]\n",
      " [2.57647666e-03]\n",
      " [9.98107851e-01]\n",
      " [8.60928655e-01]\n",
      " [9.88257408e-01]\n",
      " [9.99594927e-01]\n",
      " [9.99338031e-01]\n",
      " [1.00000000e+00]\n",
      " [6.08743052e-04]\n",
      " [9.98087525e-01]\n",
      " [9.98600960e-01]\n",
      " [3.39217193e-04]\n",
      " [9.97598052e-01]\n",
      " [3.33997700e-03]\n",
      " [9.99917388e-01]\n",
      " [9.99209762e-01]\n",
      " [1.20321754e-04]\n",
      " [4.03844375e-10]\n",
      " [7.14723021e-03]\n",
      " [3.68422747e-07]\n",
      " [9.99917984e-01]\n",
      " [4.36134214e-05]\n",
      " [8.20736773e-03]\n",
      " [9.99851704e-01]\n",
      " [9.99614894e-01]\n",
      " [5.49728284e-03]\n",
      " [8.55629265e-01]\n",
      " [4.79840338e-01]\n",
      " [9.99494553e-01]\n",
      " [9.99999285e-01]\n",
      " [8.04789901e-01]\n",
      " [9.90526795e-01]\n",
      " [9.99766648e-01]\n",
      " [9.98267770e-01]\n",
      " [2.34276726e-04]\n",
      " [9.99999762e-01]\n",
      " [9.99994218e-01]\n",
      " [9.07670617e-01]\n",
      " [1.67130157e-02]\n",
      " [1.06853119e-03]\n",
      " [2.16338293e-07]\n",
      " [9.98823941e-01]\n",
      " [9.99874592e-01]\n",
      " [9.99851644e-01]\n",
      " [9.99343693e-01]\n",
      " [9.99374092e-01]]\n"
     ]
    }
   ],
   "source": [
    "print(y_pred)"
   ]
  },
  {
   "cell_type": "code",
   "execution_count": 19,
   "id": "1ca94ed7-efe7-459f-9e8f-8de904f30f41",
   "metadata": {},
   "outputs": [],
   "source": [
    "y_pred_bi = [1 if pred > 0.5 else 0 for pred in y_pred]"
   ]
  },
  {
   "cell_type": "code",
   "execution_count": 20,
   "id": "a3a00cef-0788-450a-b626-b53d31d45bae",
   "metadata": {},
   "outputs": [
    {
     "name": "stdout",
     "output_type": "stream",
     "text": [
      "Predictions [[9.66590941e-01]\n",
      " [1.25138171e-03]\n",
      " [9.99280393e-01]\n",
      " [1.28932751e-03]\n",
      " [7.16278180e-02]\n",
      " [2.37310049e-03]\n",
      " [2.03500327e-04]\n",
      " [4.38343853e-01]\n",
      " [9.99581873e-01]\n",
      " [9.98521090e-01]\n",
      " [9.99619603e-01]\n",
      " [4.47189261e-04]\n",
      " [2.57647666e-03]\n",
      " [9.98107851e-01]\n",
      " [8.60928655e-01]\n",
      " [9.88257408e-01]\n",
      " [9.99594927e-01]\n",
      " [9.99338031e-01]\n",
      " [1.00000000e+00]\n",
      " [6.08743052e-04]\n",
      " [9.98087525e-01]\n",
      " [9.98600960e-01]\n",
      " [3.39217193e-04]\n",
      " [9.97598052e-01]\n",
      " [3.33997700e-03]\n",
      " [9.99917388e-01]\n",
      " [9.99209762e-01]\n",
      " [1.20321754e-04]\n",
      " [4.03844375e-10]\n",
      " [7.14723021e-03]\n",
      " [3.68422747e-07]\n",
      " [9.99917984e-01]\n",
      " [4.36134214e-05]\n",
      " [8.20736773e-03]\n",
      " [9.99851704e-01]\n",
      " [9.99614894e-01]\n",
      " [5.49728284e-03]\n",
      " [8.55629265e-01]\n",
      " [4.79840338e-01]\n",
      " [9.99494553e-01]\n",
      " [9.99999285e-01]\n",
      " [8.04789901e-01]\n",
      " [9.90526795e-01]\n",
      " [9.99766648e-01]\n",
      " [9.98267770e-01]\n",
      " [2.34276726e-04]\n",
      " [9.99999762e-01]\n",
      " [9.99994218e-01]\n",
      " [9.07670617e-01]\n",
      " [1.67130157e-02]\n",
      " [1.06853119e-03]\n",
      " [2.16338293e-07]\n",
      " [9.98823941e-01]\n",
      " [9.99874592e-01]\n",
      " [9.99851644e-01]\n",
      " [9.99343693e-01]\n",
      " [9.99374092e-01]]\n",
      "P [1, 0, 1, 0, 0, 0, 0, 0, 1, 1, 1, 0, 0, 1, 1, 1, 1, 1, 1, 0, 1, 1, 0, 1, 0, 1, 1, 0, 0, 0, 0, 1, 0, 0, 1, 1, 0, 1, 0, 1, 1, 1, 1, 1, 1, 0, 1, 1, 1, 0, 0, 0, 1, 1, 1, 1, 1]\n"
     ]
    }
   ],
   "source": [
    "print(\"Predictions\",y_pred)\n",
    "print(\"P\",y_pred_bi)"
   ]
  },
  {
   "cell_type": "code",
   "execution_count": 21,
   "id": "95370abf-613a-4259-b15b-8e1f47afc5a2",
   "metadata": {},
   "outputs": [
    {
     "name": "stdout",
     "output_type": "stream",
     "text": [
      "\u001b[1m2/2\u001b[0m \u001b[32m━━━━━━━━━━━━━━━━━━━━\u001b[0m\u001b[37m\u001b[0m \u001b[1m0s\u001b[0m 5ms/step - accuracy: 1.0000 - loss: 0.0331 \n"
     ]
    }
   ],
   "source": [
    "loss,accuracy = model.evaluate(x_test,y_test)"
   ]
  },
  {
   "cell_type": "code",
   "execution_count": 22,
   "id": "1a8ec887-834f-4ddd-8cdf-2d518e0f5c20",
   "metadata": {},
   "outputs": [
    {
     "name": "stdout",
     "output_type": "stream",
     "text": [
      "T:100.000000%\n"
     ]
    }
   ],
   "source": [
    "print(f\"T:{accuracy*100:2f}%\")"
   ]
  },
  {
   "cell_type": "code",
   "execution_count": 23,
   "id": "d45b6628-1900-438e-8b0d-949c5da7e8bd",
   "metadata": {},
   "outputs": [
    {
     "name": "stdout",
     "output_type": "stream",
     "text": [
      "\u001b[1m1/1\u001b[0m \u001b[32m━━━━━━━━━━━━━━━━━━━━\u001b[0m\u001b[37m\u001b[0m \u001b[1m0s\u001b[0m 20ms/step\n",
      "The prediction based on user input is: Cancerous\n"
     ]
    }
   ],
   "source": [
    "def predict_cancer(user_input):\n",
    "    # Convert user input to a DataFrame\n",
    "    user_data = pd.DataFrame([user_input], columns=cancer_data.feature_names)\n",
    "    \n",
    "    # Standardize the input\n",
    "    user_data_scaled = sc.transform(user_data)\n",
    "    \n",
    "    # Make a prediction\n",
    "    prediction = model.predict(user_data_scaled)\n",
    "    \n",
    "    # Convert prediction to a binary outcome\n",
    "    prediction_binary = 1 if prediction[0][0] > 0.5 else 0\n",
    "    \n",
    "    # Map the result to a human-readable format\n",
    "    result = \"Cancerous\" if prediction_binary == 1 else \"Not Cancerous\"\n",
    "    \n",
    "    return result\n",
    "\n",
    "# Example user input (you can replace this with dynamic input gathering)\n",
    "user_input_example = {\n",
    "    'mean radius': 14.0,\n",
    "    'mean texture': 20.0,\n",
    "    'mean perimeter': 90.0,\n",
    "    'mean area': 600.0,\n",
    "    'mean smoothness': 0.1,\n",
    "    'mean compactness': 0.1,\n",
    "    'mean concavity': 0.08,\n",
    "    'mean concave points': 0.05,\n",
    "    'mean symmetry': 0.18,\n",
    "    'mean fractal dimension': 0.06,\n",
    "    'radius error': 0.3,\n",
    "    'texture error': 1.5,\n",
    "    'perimeter error': 2.0,\n",
    "    'area error': 15.0,\n",
    "    'smoothness error': 0.005,\n",
    "    'compactness error': 0.02,\n",
    "    'concavity error': 0.02,\n",
    "    'concave points error': 0.01,\n",
    "    'symmetry error': 0.03,\n",
    "    'fractal dimension error': 0.002,\n",
    "    'worst radius': 16.0,\n",
    "    'worst texture': 25.0,\n",
    "    'worst perimeter': 100.0,\n",
    "    'worst area': 700.0,\n",
    "    'worst smoothness': 0.15,\n",
    "    'worst compactness': 0.25,\n",
    "    'worst concavity': 0.2,\n",
    "    'worst concave points': 0.1,\n",
    "    'worst symmetry': 0.25,\n",
    "    'worst fractal dimension': 0.08\n",
    "}\n",
    "\n",
    "# Predict using the example input\n",
    "prediction_result = predict_cancer(user_input_example)\n",
    "print(f\"The prediction based on user input is: {prediction_result}\")"
   ]
  },
  {
   "cell_type": "code",
   "execution_count": 24,
   "id": "421464ed-3f64-46f5-8598-218750e6ff46",
   "metadata": {},
   "outputs": [
    {
     "name": "stdout",
     "output_type": "stream",
     "text": [
      "\u001b[1m1/1\u001b[0m \u001b[32m━━━━━━━━━━━━━━━━━━━━\u001b[0m\u001b[37m\u001b[0m \u001b[1m0s\u001b[0m 21ms/step\n",
      "The prediction based on user input is: Cancerous\n"
     ]
    }
   ],
   "source": [
    "user_input_example = {\n",
    "    'mean radius': 20.0,\n",
    "    'mean texture': 10.0,\n",
    "    'mean perimeter': 60.0,\n",
    "    'mean area': 500.0,\n",
    "    'mean smoothness': 0.5,\n",
    "    'mean compactness': 0.2,\n",
    "    'mean concavity': 0.18,\n",
    "    'mean concave points': 0.15,\n",
    "    'mean symmetry': 0.08,\n",
    "    'mean fractal dimension': 0.16,\n",
    "    'radius error': 0.13,\n",
    "    'texture error': 1.25,\n",
    "    'perimeter error': 2.10,\n",
    "    'area error': 15.10,\n",
    "    'smoothness error': 0.015,\n",
    "    'compactness error': 0.12,\n",
    "    'concavity error': 0.12,\n",
    "    'concave points error': 0.21,\n",
    "    'symmetry error': 0.13,\n",
    "    'fractal dimension error': 0.012,\n",
    "    'worst radius': 19.0,\n",
    "    'worst texture': 29.0,\n",
    "    'worst perimeter': 200.0,\n",
    "    'worst area': 600.0,\n",
    "    'worst smoothness': 0.19,\n",
    "    'worst compactness': 0.29,\n",
    "    'worst concavity': 0.12,\n",
    "    'worst concave points': 0.14,\n",
    "    'worst symmetry': 0.29,\n",
    "    'worst fractal dimension': 0.18\n",
    "}\n",
    "\n",
    "# Predict using the example input\n",
    "prediction_result = predict_cancer(user_input_example)\n",
    "print(f\"The prediction based on user input is: {prediction_result}\")"
   ]
  },
  {
   "cell_type": "code",
   "execution_count": 25,
   "id": "e99d5c72-5f8b-4af7-9c49-40687e82d2a3",
   "metadata": {},
   "outputs": [
    {
     "data": {
      "text/plain": [
       "['/Users/mdfarazali/Documents/AI ML/Projects/Breast Cancer Pro/scaler.h5']"
      ]
     },
     "execution_count": 25,
     "metadata": {},
     "output_type": "execute_result"
    }
   ],
   "source": [
    "import joblib\n",
    "joblib.dump(sc,r\"/Users/mdfarazali/Documents/AI ML/Projects/Breast Cancer Pro/scaler.h5\")"
   ]
  },
  {
   "cell_type": "code",
   "execution_count": 26,
   "id": "7dbea43f-deba-4344-bbef-c471ff920ab8",
   "metadata": {},
   "outputs": [
    {
     "name": "stderr",
     "output_type": "stream",
     "text": [
      "WARNING:absl:You are saving your model as an HDF5 file via `model.save()` or `keras.saving.save_model(model)`. This file format is considered legacy. We recommend using instead the native Keras format, e.g. `model.save('my_model.keras')` or `keras.saving.save_model(model, 'my_model.keras')`. \n"
     ]
    }
   ],
   "source": [
    "model.save('cancer_prediction_model.h5')  # Save the trained Keras model"
   ]
  },
  {
   "cell_type": "code",
   "execution_count": null,
   "id": "a7e16d1d-72da-4b91-a2f9-2abc4c1390c7",
   "metadata": {},
   "outputs": [],
   "source": []
  }
 ],
 "metadata": {
  "kernelspec": {
   "display_name": "Python 3 (ipykernel)",
   "language": "python",
   "name": "python3"
  },
  "language_info": {
   "codemirror_mode": {
    "name": "ipython",
    "version": 3
   },
   "file_extension": ".py",
   "mimetype": "text/x-python",
   "name": "python",
   "nbconvert_exporter": "python",
   "pygments_lexer": "ipython3",
   "version": "3.12.0"
  }
 },
 "nbformat": 4,
 "nbformat_minor": 5
}
